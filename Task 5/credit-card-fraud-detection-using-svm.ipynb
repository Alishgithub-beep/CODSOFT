{
 "cells": [
  {
   "cell_type": "code",
   "execution_count": 1,
   "id": "466ce490",
   "metadata": {
    "execution": {
     "iopub.execute_input": "2025-05-26T22:20:40.431894Z",
     "iopub.status.busy": "2025-05-26T22:20:40.431228Z",
     "iopub.status.idle": "2025-05-26T22:20:42.113980Z",
     "shell.execute_reply": "2025-05-26T22:20:42.112698Z"
    },
    "papermill": {
     "duration": 1.699462,
     "end_time": "2025-05-26T22:20:42.117515",
     "exception": false,
     "start_time": "2025-05-26T22:20:40.418053",
     "status": "completed"
    },
    "tags": []
   },
   "outputs": [],
   "source": [
    "# Importing libraries\n",
    "\n",
    "import pandas as pd\n",
    "import numpy as np\n",
    "\n",
    "import matplotlib.pyplot as plt\n",
    "import seaborn as sns\n",
    "\n",
    "from sklearn import svm\n",
    "from sklearn.metrics import confusion_matrix\n",
    "\n",
    "import itertools"
   ]
  },
  {
   "cell_type": "code",
   "execution_count": 2,
   "id": "ec2271e2",
   "metadata": {
    "_cell_guid": "95f30dd3-7b08-4087-b156-5bf3250ce742",
    "_uuid": "dc31e50ac68836610ff16246bbda63d7ae6db49b",
    "collapsed": true,
    "execution": {
     "iopub.execute_input": "2025-05-26T22:20:42.140012Z",
     "iopub.status.busy": "2025-05-26T22:20:42.139612Z",
     "iopub.status.idle": "2025-05-26T22:20:42.148205Z",
     "shell.execute_reply": "2025-05-26T22:20:42.146979Z"
    },
    "jupyter": {
     "outputs_hidden": true
    },
    "papermill": {
     "duration": 0.023355,
     "end_time": "2025-05-26T22:20:42.150837",
     "exception": false,
     "start_time": "2025-05-26T22:20:42.127482",
     "status": "completed"
    },
    "tags": []
   },
   "outputs": [],
   "source": [
    "#Importing librairies\n",
    "\n",
    "import pandas as pd \n",
    "import numpy as np\n",
    "\n",
    "# Scikit-learn library: For SVM\n",
    "from sklearn import preprocessing\n",
    "from sklearn.metrics import confusion_matrix\n",
    "from sklearn import svm\n",
    "\n",
    "import itertools\n",
    "\n",
    "# Matplotlib library to plot the charts\n",
    "import matplotlib.pyplot as plt\n",
    "import matplotlib.mlab as mlab\n",
    "\n",
    "# Library for the statistic data vizualisation\n",
    "import seaborn\n",
    "\n",
    "%matplotlib inline\n",
    "\n"
   ]
  },
  {
   "cell_type": "markdown",
   "id": "40427bb8",
   "metadata": {
    "_cell_guid": "4c375090-4893-4b92-ad94-abb3fbc60e22",
    "_uuid": "504f7342684d5bb9d64acbd7f48c89c2846e69a9",
    "papermill": {
     "duration": 0.008662,
     "end_time": "2025-05-26T22:20:42.168482",
     "exception": false,
     "start_time": "2025-05-26T22:20:42.159820",
     "status": "completed"
    },
    "tags": []
   },
   "source": [
    "# Read the Data"
   ]
  },
  {
   "cell_type": "code",
   "execution_count": 3,
   "id": "2d6da77e",
   "metadata": {
    "execution": {
     "iopub.execute_input": "2025-05-26T22:20:42.188141Z",
     "iopub.status.busy": "2025-05-26T22:20:42.187752Z",
     "iopub.status.idle": "2025-05-26T22:20:46.859562Z",
     "shell.execute_reply": "2025-05-26T22:20:46.858265Z"
    },
    "papermill": {
     "duration": 4.684922,
     "end_time": "2025-05-26T22:20:46.862448",
     "exception": false,
     "start_time": "2025-05-26T22:20:42.177526",
     "status": "completed"
    },
    "tags": []
   },
   "outputs": [],
   "source": [
    "data = pd.read_csv('../input/creditcard.csv')"
   ]
  },
  {
   "cell_type": "code",
   "execution_count": 4,
   "id": "87788824",
   "metadata": {
    "execution": {
     "iopub.execute_input": "2025-05-26T22:20:46.883339Z",
     "iopub.status.busy": "2025-05-26T22:20:46.882915Z",
     "iopub.status.idle": "2025-05-26T22:20:46.921986Z",
     "shell.execute_reply": "2025-05-26T22:20:46.920696Z"
    },
    "papermill": {
     "duration": 0.052859,
     "end_time": "2025-05-26T22:20:46.924664",
     "exception": false,
     "start_time": "2025-05-26T22:20:46.871805",
     "status": "completed"
    },
    "tags": []
   },
   "outputs": [
    {
     "data": {
      "text/html": [
       "<div>\n",
       "<style scoped>\n",
       "    .dataframe tbody tr th:only-of-type {\n",
       "        vertical-align: middle;\n",
       "    }\n",
       "\n",
       "    .dataframe tbody tr th {\n",
       "        vertical-align: top;\n",
       "    }\n",
       "\n",
       "    .dataframe thead th {\n",
       "        text-align: right;\n",
       "    }\n",
       "</style>\n",
       "<table border=\"1\" class=\"dataframe\">\n",
       "  <thead>\n",
       "    <tr style=\"text-align: right;\">\n",
       "      <th></th>\n",
       "      <th>Time</th>\n",
       "      <th>V1</th>\n",
       "      <th>V2</th>\n",
       "      <th>V3</th>\n",
       "      <th>V4</th>\n",
       "      <th>V5</th>\n",
       "      <th>V6</th>\n",
       "      <th>V7</th>\n",
       "      <th>V8</th>\n",
       "      <th>V9</th>\n",
       "      <th>...</th>\n",
       "      <th>V21</th>\n",
       "      <th>V22</th>\n",
       "      <th>V23</th>\n",
       "      <th>V24</th>\n",
       "      <th>V25</th>\n",
       "      <th>V26</th>\n",
       "      <th>V27</th>\n",
       "      <th>V28</th>\n",
       "      <th>Amount</th>\n",
       "      <th>Class</th>\n",
       "    </tr>\n",
       "  </thead>\n",
       "  <tbody>\n",
       "    <tr>\n",
       "      <th>0</th>\n",
       "      <td>0.0</td>\n",
       "      <td>-1.359807</td>\n",
       "      <td>-0.072781</td>\n",
       "      <td>2.536347</td>\n",
       "      <td>1.378155</td>\n",
       "      <td>-0.338321</td>\n",
       "      <td>0.462388</td>\n",
       "      <td>0.239599</td>\n",
       "      <td>0.098698</td>\n",
       "      <td>0.363787</td>\n",
       "      <td>...</td>\n",
       "      <td>-0.018307</td>\n",
       "      <td>0.277838</td>\n",
       "      <td>-0.110474</td>\n",
       "      <td>0.066928</td>\n",
       "      <td>0.128539</td>\n",
       "      <td>-0.189115</td>\n",
       "      <td>0.133558</td>\n",
       "      <td>-0.021053</td>\n",
       "      <td>149.62</td>\n",
       "      <td>0</td>\n",
       "    </tr>\n",
       "    <tr>\n",
       "      <th>1</th>\n",
       "      <td>0.0</td>\n",
       "      <td>1.191857</td>\n",
       "      <td>0.266151</td>\n",
       "      <td>0.166480</td>\n",
       "      <td>0.448154</td>\n",
       "      <td>0.060018</td>\n",
       "      <td>-0.082361</td>\n",
       "      <td>-0.078803</td>\n",
       "      <td>0.085102</td>\n",
       "      <td>-0.255425</td>\n",
       "      <td>...</td>\n",
       "      <td>-0.225775</td>\n",
       "      <td>-0.638672</td>\n",
       "      <td>0.101288</td>\n",
       "      <td>-0.339846</td>\n",
       "      <td>0.167170</td>\n",
       "      <td>0.125895</td>\n",
       "      <td>-0.008983</td>\n",
       "      <td>0.014724</td>\n",
       "      <td>2.69</td>\n",
       "      <td>0</td>\n",
       "    </tr>\n",
       "    <tr>\n",
       "      <th>2</th>\n",
       "      <td>1.0</td>\n",
       "      <td>-1.358354</td>\n",
       "      <td>-1.340163</td>\n",
       "      <td>1.773209</td>\n",
       "      <td>0.379780</td>\n",
       "      <td>-0.503198</td>\n",
       "      <td>1.800499</td>\n",
       "      <td>0.791461</td>\n",
       "      <td>0.247676</td>\n",
       "      <td>-1.514654</td>\n",
       "      <td>...</td>\n",
       "      <td>0.247998</td>\n",
       "      <td>0.771679</td>\n",
       "      <td>0.909412</td>\n",
       "      <td>-0.689281</td>\n",
       "      <td>-0.327642</td>\n",
       "      <td>-0.139097</td>\n",
       "      <td>-0.055353</td>\n",
       "      <td>-0.059752</td>\n",
       "      <td>378.66</td>\n",
       "      <td>0</td>\n",
       "    </tr>\n",
       "    <tr>\n",
       "      <th>3</th>\n",
       "      <td>1.0</td>\n",
       "      <td>-0.966272</td>\n",
       "      <td>-0.185226</td>\n",
       "      <td>1.792993</td>\n",
       "      <td>-0.863291</td>\n",
       "      <td>-0.010309</td>\n",
       "      <td>1.247203</td>\n",
       "      <td>0.237609</td>\n",
       "      <td>0.377436</td>\n",
       "      <td>-1.387024</td>\n",
       "      <td>...</td>\n",
       "      <td>-0.108300</td>\n",
       "      <td>0.005274</td>\n",
       "      <td>-0.190321</td>\n",
       "      <td>-1.175575</td>\n",
       "      <td>0.647376</td>\n",
       "      <td>-0.221929</td>\n",
       "      <td>0.062723</td>\n",
       "      <td>0.061458</td>\n",
       "      <td>123.50</td>\n",
       "      <td>0</td>\n",
       "    </tr>\n",
       "    <tr>\n",
       "      <th>4</th>\n",
       "      <td>2.0</td>\n",
       "      <td>-1.158233</td>\n",
       "      <td>0.877737</td>\n",
       "      <td>1.548718</td>\n",
       "      <td>0.403034</td>\n",
       "      <td>-0.407193</td>\n",
       "      <td>0.095921</td>\n",
       "      <td>0.592941</td>\n",
       "      <td>-0.270533</td>\n",
       "      <td>0.817739</td>\n",
       "      <td>...</td>\n",
       "      <td>-0.009431</td>\n",
       "      <td>0.798278</td>\n",
       "      <td>-0.137458</td>\n",
       "      <td>0.141267</td>\n",
       "      <td>-0.206010</td>\n",
       "      <td>0.502292</td>\n",
       "      <td>0.219422</td>\n",
       "      <td>0.215153</td>\n",
       "      <td>69.99</td>\n",
       "      <td>0</td>\n",
       "    </tr>\n",
       "  </tbody>\n",
       "</table>\n",
       "<p>5 rows × 31 columns</p>\n",
       "</div>"
      ],
      "text/plain": [
       "   Time        V1        V2        V3        V4        V5        V6        V7  \\\n",
       "0   0.0 -1.359807 -0.072781  2.536347  1.378155 -0.338321  0.462388  0.239599   \n",
       "1   0.0  1.191857  0.266151  0.166480  0.448154  0.060018 -0.082361 -0.078803   \n",
       "2   1.0 -1.358354 -1.340163  1.773209  0.379780 -0.503198  1.800499  0.791461   \n",
       "3   1.0 -0.966272 -0.185226  1.792993 -0.863291 -0.010309  1.247203  0.237609   \n",
       "4   2.0 -1.158233  0.877737  1.548718  0.403034 -0.407193  0.095921  0.592941   \n",
       "\n",
       "         V8        V9  ...       V21       V22       V23       V24       V25  \\\n",
       "0  0.098698  0.363787  ... -0.018307  0.277838 -0.110474  0.066928  0.128539   \n",
       "1  0.085102 -0.255425  ... -0.225775 -0.638672  0.101288 -0.339846  0.167170   \n",
       "2  0.247676 -1.514654  ...  0.247998  0.771679  0.909412 -0.689281 -0.327642   \n",
       "3  0.377436 -1.387024  ... -0.108300  0.005274 -0.190321 -1.175575  0.647376   \n",
       "4 -0.270533  0.817739  ... -0.009431  0.798278 -0.137458  0.141267 -0.206010   \n",
       "\n",
       "        V26       V27       V28  Amount  Class  \n",
       "0 -0.189115  0.133558 -0.021053  149.62      0  \n",
       "1  0.125895 -0.008983  0.014724    2.69      0  \n",
       "2 -0.139097 -0.055353 -0.059752  378.66      0  \n",
       "3 -0.221929  0.062723  0.061458  123.50      0  \n",
       "4  0.502292  0.219422  0.215153   69.99      0  \n",
       "\n",
       "[5 rows x 31 columns]"
      ]
     },
     "execution_count": 4,
     "metadata": {},
     "output_type": "execute_result"
    }
   ],
   "source": [
    "data.head()"
   ]
  },
  {
   "cell_type": "code",
   "execution_count": 5,
   "id": "f01ca04a",
   "metadata": {
    "execution": {
     "iopub.execute_input": "2025-05-26T22:20:46.946874Z",
     "iopub.status.busy": "2025-05-26T22:20:46.945384Z",
     "iopub.status.idle": "2025-05-26T22:20:46.953889Z",
     "shell.execute_reply": "2025-05-26T22:20:46.952578Z"
    },
    "papermill": {
     "duration": 0.021932,
     "end_time": "2025-05-26T22:20:46.956292",
     "exception": false,
     "start_time": "2025-05-26T22:20:46.934360",
     "status": "completed"
    },
    "tags": []
   },
   "outputs": [
    {
     "data": {
      "text/plain": [
       "(284807, 31)"
      ]
     },
     "execution_count": 5,
     "metadata": {},
     "output_type": "execute_result"
    }
   ],
   "source": [
    "data.shape"
   ]
  },
  {
   "cell_type": "code",
   "execution_count": 6,
   "id": "a8f81b29",
   "metadata": {
    "execution": {
     "iopub.execute_input": "2025-05-26T22:20:46.977882Z",
     "iopub.status.busy": "2025-05-26T22:20:46.977490Z",
     "iopub.status.idle": "2025-05-26T22:20:46.986337Z",
     "shell.execute_reply": "2025-05-26T22:20:46.984739Z"
    },
    "papermill": {
     "duration": 0.022752,
     "end_time": "2025-05-26T22:20:46.989275",
     "exception": false,
     "start_time": "2025-05-26T22:20:46.966523",
     "status": "completed"
    },
    "tags": []
   },
   "outputs": [
    {
     "data": {
      "text/plain": [
       "Index(['Time', 'V1', 'V2', 'V3', 'V4', 'V5', 'V6', 'V7', 'V8', 'V9', 'V10',\n",
       "       'V11', 'V12', 'V13', 'V14', 'V15', 'V16', 'V17', 'V18', 'V19', 'V20',\n",
       "       'V21', 'V22', 'V23', 'V24', 'V25', 'V26', 'V27', 'V28', 'Amount',\n",
       "       'Class'],\n",
       "      dtype='object')"
      ]
     },
     "execution_count": 6,
     "metadata": {},
     "output_type": "execute_result"
    }
   ],
   "source": [
    "data.columns"
   ]
  },
  {
   "cell_type": "code",
   "execution_count": 7,
   "id": "cde85c29",
   "metadata": {
    "execution": {
     "iopub.execute_input": "2025-05-26T22:20:47.011811Z",
     "iopub.status.busy": "2025-05-26T22:20:47.011410Z",
     "iopub.status.idle": "2025-05-26T22:20:47.060052Z",
     "shell.execute_reply": "2025-05-26T22:20:47.058591Z"
    },
    "papermill": {
     "duration": 0.063689,
     "end_time": "2025-05-26T22:20:47.063282",
     "exception": false,
     "start_time": "2025-05-26T22:20:46.999593",
     "status": "completed"
    },
    "tags": []
   },
   "outputs": [
    {
     "name": "stdout",
     "output_type": "stream",
     "text": [
      "<class 'pandas.core.frame.DataFrame'>\n",
      "RangeIndex: 284807 entries, 0 to 284806\n",
      "Data columns (total 31 columns):\n",
      " #   Column  Non-Null Count   Dtype  \n",
      "---  ------  --------------   -----  \n",
      " 0   Time    284807 non-null  float64\n",
      " 1   V1      284807 non-null  float64\n",
      " 2   V2      284807 non-null  float64\n",
      " 3   V3      284807 non-null  float64\n",
      " 4   V4      284807 non-null  float64\n",
      " 5   V5      284807 non-null  float64\n",
      " 6   V6      284807 non-null  float64\n",
      " 7   V7      284807 non-null  float64\n",
      " 8   V8      284807 non-null  float64\n",
      " 9   V9      284807 non-null  float64\n",
      " 10  V10     284807 non-null  float64\n",
      " 11  V11     284807 non-null  float64\n",
      " 12  V12     284807 non-null  float64\n",
      " 13  V13     284807 non-null  float64\n",
      " 14  V14     284807 non-null  float64\n",
      " 15  V15     284807 non-null  float64\n",
      " 16  V16     284807 non-null  float64\n",
      " 17  V17     284807 non-null  float64\n",
      " 18  V18     284807 non-null  float64\n",
      " 19  V19     284807 non-null  float64\n",
      " 20  V20     284807 non-null  float64\n",
      " 21  V21     284807 non-null  float64\n",
      " 22  V22     284807 non-null  float64\n",
      " 23  V23     284807 non-null  float64\n",
      " 24  V24     284807 non-null  float64\n",
      " 25  V25     284807 non-null  float64\n",
      " 26  V26     284807 non-null  float64\n",
      " 27  V27     284807 non-null  float64\n",
      " 28  V28     284807 non-null  float64\n",
      " 29  Amount  284807 non-null  float64\n",
      " 30  Class   284807 non-null  int64  \n",
      "dtypes: float64(30), int64(1)\n",
      "memory usage: 67.4 MB\n"
     ]
    }
   ],
   "source": [
    "data.info()"
   ]
  },
  {
   "cell_type": "code",
   "execution_count": 8,
   "id": "eddf4bd8",
   "metadata": {
    "execution": {
     "iopub.execute_input": "2025-05-26T22:20:47.085222Z",
     "iopub.status.busy": "2025-05-26T22:20:47.084767Z",
     "iopub.status.idle": "2025-05-26T22:20:47.094975Z",
     "shell.execute_reply": "2025-05-26T22:20:47.093823Z"
    },
    "papermill": {
     "duration": 0.024201,
     "end_time": "2025-05-26T22:20:47.097337",
     "exception": false,
     "start_time": "2025-05-26T22:20:47.073136",
     "status": "completed"
    },
    "tags": []
   },
   "outputs": [
    {
     "data": {
      "text/plain": [
       "0    284315\n",
       "1       492\n",
       "Name: Class, dtype: int64"
      ]
     },
     "execution_count": 8,
     "metadata": {},
     "output_type": "execute_result"
    }
   ],
   "source": [
    "data.Class.value_counts()"
   ]
  },
  {
   "cell_type": "code",
   "execution_count": 9,
   "id": "1792a3d1",
   "metadata": {
    "execution": {
     "iopub.execute_input": "2025-05-26T22:20:47.118632Z",
     "iopub.status.busy": "2025-05-26T22:20:47.118204Z",
     "iopub.status.idle": "2025-05-26T22:20:47.125542Z",
     "shell.execute_reply": "2025-05-26T22:20:47.124407Z"
    },
    "papermill": {
     "duration": 0.020751,
     "end_time": "2025-05-26T22:20:47.127958",
     "exception": false,
     "start_time": "2025-05-26T22:20:47.107207",
     "status": "completed"
    },
    "tags": []
   },
   "outputs": [
    {
     "data": {
      "text/plain": [
       "0.001727485630620034"
      ]
     },
     "execution_count": 9,
     "metadata": {},
     "output_type": "execute_result"
    }
   ],
   "source": [
    "492/284807    #Indicates that our target variable is highly imbalanced"
   ]
  },
  {
   "cell_type": "markdown",
   "id": "efa9ccee",
   "metadata": {
    "papermill": {
     "duration": 0.009484,
     "end_time": "2025-05-26T22:20:47.147313",
     "exception": false,
     "start_time": "2025-05-26T22:20:47.137829",
     "status": "completed"
    },
    "tags": []
   },
   "source": [
    "To handle the imbalance, we could use the oversampling principle or the undersampling principle.\n",
    "The undersampling principle should be used only if we can be sure that the selected subset (in this case non-fraud) are representative of the whole non-fraud transactions of the dataset."
   ]
  },
  {
   "cell_type": "markdown",
   "id": "74b22d91",
   "metadata": {
    "_cell_guid": "ae7d0f5e-f323-46f6-a454-a2a8065af693",
    "_uuid": "dda60fcd5cb9953205c5ae716fcdf7cd5682f9eb",
    "papermill": {
     "duration": 0.009376,
     "end_time": "2025-05-26T22:20:47.166932",
     "exception": false,
     "start_time": "2025-05-26T22:20:47.157556",
     "status": "completed"
    },
    "tags": []
   },
   "source": [
    "# Data Visualization"
   ]
  },
  {
   "cell_type": "code",
   "execution_count": 10,
   "id": "85c42c0a",
   "metadata": {
    "execution": {
     "iopub.execute_input": "2025-05-26T22:20:47.188520Z",
     "iopub.status.busy": "2025-05-26T22:20:47.188090Z",
     "iopub.status.idle": "2025-05-26T22:20:47.469418Z",
     "shell.execute_reply": "2025-05-26T22:20:47.468041Z"
    },
    "papermill": {
     "duration": 0.295358,
     "end_time": "2025-05-26T22:20:47.472044",
     "exception": false,
     "start_time": "2025-05-26T22:20:47.176686",
     "status": "completed"
    },
    "tags": []
   },
   "outputs": [
    {
     "data": {
      "image/png": "[encoded data removed]",
      "text/plain": [
       "<Figure size 720x720 with 1 Axes>"
      ]
     },
     "metadata": {
      "needs_background": "light"
     },
     "output_type": "display_data"
    }
   ],
   "source": [
    "df_fraud = data[data.Class==1]\n",
    "plt.figure(figsize = (10,10))\n",
    "plt.scatter(df_fraud.Time, df_fraud.Amount)\n",
    "plt.xlabel('Time')\n",
    "plt.ylabel('Amount')\n",
    "plt.show()"
   ]
  },
  {
   "cell_type": "markdown",
   "id": "0e790241",
   "metadata": {
    "_cell_guid": "970cef6c-01b8-4d61-a3b5-38c3398f9c6f",
    "_uuid": "61c0ec8f7ae47ca9514c2cf3d1e729ba7c528c4e",
    "papermill": {
     "duration": 0.010027,
     "end_time": "2025-05-26T22:20:47.492570",
     "exception": false,
     "start_time": "2025-05-26T22:20:47.482543",
     "status": "completed"
    },
    "tags": []
   },
   "source": [
    "We notice that time doesn't impact the frequency of frauds and majority of frauds are of small amounts."
   ]
  },
  {
   "cell_type": "markdown",
   "id": "46fe5ecb",
   "metadata": {
    "_cell_guid": "934444aa-0a22-4b60-b363-c4af3ab8ffe9",
    "_uuid": "ce9fa83195b843375a102593ee1ece0b9efdad97",
    "papermill": {
     "duration": 0.010355,
     "end_time": "2025-05-26T22:20:47.515825",
     "exception": false,
     "start_time": "2025-05-26T22:20:47.505470",
     "status": "completed"
    },
    "tags": []
   },
   "source": [
    "# Correlation of features"
   ]
  },
  {
   "cell_type": "code",
   "execution_count": 11,
   "id": "ec5a50a7",
   "metadata": {
    "execution": {
     "iopub.execute_input": "2025-05-26T22:20:47.539213Z",
     "iopub.status.busy": "2025-05-26T22:20:47.538797Z",
     "iopub.status.idle": "2025-05-26T22:20:48.360394Z",
     "shell.execute_reply": "2025-05-26T22:20:48.359200Z"
    },
    "papermill": {
     "duration": 0.83695,
     "end_time": "2025-05-26T22:20:48.363208",
     "exception": false,
     "start_time": "2025-05-26T22:20:47.526258",
     "status": "completed"
    },
    "tags": []
   },
   "outputs": [],
   "source": [
    "corr = data.corr()"
   ]
  },
  {
   "cell_type": "code",
   "execution_count": 12,
   "id": "c973c7ee",
   "metadata": {
    "execution": {
     "iopub.execute_input": "2025-05-26T22:20:48.386548Z",
     "iopub.status.busy": "2025-05-26T22:20:48.386122Z",
     "iopub.status.idle": "2025-05-26T22:20:49.030689Z",
     "shell.execute_reply": "2025-05-26T22:20:49.029144Z"
    },
    "papermill": {
     "duration": 0.65992,
     "end_time": "2025-05-26T22:20:49.033830",
     "exception": false,
     "start_time": "2025-05-26T22:20:48.373910",
     "status": "completed"
    },
    "tags": []
   },
   "outputs": [
    {
     "data": {
      "image/png": "[encoded data removed]",
      "text/plain": [
       "<Figure size 720x576 with 2 Axes>"
      ]
     },
     "metadata": {
      "needs_background": "light"
     },
     "output_type": "display_data"
    }
   ],
   "source": [
    "plt.figure(figsize = (10,8))\n",
    "sns.heatmap(corr, cmap=\"YlGnBu\")\n",
    "plt.show()"
   ]
  },
  {
   "cell_type": "markdown",
   "id": "61a770fb",
   "metadata": {
    "_cell_guid": "41acf9be-3920-47bd-88ec-14182bf970f8",
    "_uuid": "1628a54bdc8639aa5eae20dd6d7c7197fe1cfee5",
    "papermill": {
     "duration": 0.010976,
     "end_time": "2025-05-26T22:20:49.056488",
     "exception": false,
     "start_time": "2025-05-26T22:20:49.045512",
     "status": "completed"
    },
    "tags": []
   },
   "source": [
    "As we can notice, most of the features are not correlated with each other. This corroborates the fact that a PCA might have been previously performed on the data."
   ]
  },
  {
   "cell_type": "markdown",
   "id": "8b0cbe7a",
   "metadata": {
    "_cell_guid": "00e91ae9-d53a-40af-a48a-095a4b67dff9",
    "_uuid": "5a154f92f11ecfd72ad4eb2406ead5c24a9d00e3",
    "papermill": {
     "duration": 0.011075,
     "end_time": "2025-05-26T22:20:49.080081",
     "exception": false,
     "start_time": "2025-05-26T22:20:49.069006",
     "status": "completed"
    },
    "tags": []
   },
   "source": [
    "# Data Selection"
   ]
  },
  {
   "cell_type": "markdown",
   "id": "5081ea61",
   "metadata": {
    "_cell_guid": "a0432f2f-3926-46a0-ac53-a46cf05bb9c8",
    "_uuid": "ecc0c8cd3849db0cbce7dc35e2ab532d13cc052a",
    "papermill": {
     "duration": 0.012512,
     "end_time": "2025-05-26T22:20:49.104318",
     "exception": false,
     "start_time": "2025-05-26T22:20:49.091806",
     "status": "completed"
    },
    "tags": []
   },
   "source": [
    "OVERSAMPLING:\n",
    "\n",
    "One way to do oversampling is to replicate the under-represented class until we attain a correct proportion between the classes. But since the data is huge, it would take a lot of time and resources to train, we'll go with undersampling."
   ]
  },
  {
   "cell_type": "markdown",
   "id": "e88625df",
   "metadata": {
    "_cell_guid": "e08a9f1e-090b-402d-b5a3-05ece4881a60",
    "_uuid": "e109c99ad8ae57199c62806c2d5cedb3aa481c41",
    "papermill": {
     "duration": 0.011724,
     "end_time": "2025-05-26T22:20:49.127887",
     "exception": false,
     "start_time": "2025-05-26T22:20:49.116163",
     "status": "completed"
    },
    "tags": []
   },
   "source": [
    "### UNDERSAMPLING"
   ]
  },
  {
   "cell_type": "code",
   "execution_count": 13,
   "id": "024bc79e",
   "metadata": {
    "execution": {
     "iopub.execute_input": "2025-05-26T22:20:49.151929Z",
     "iopub.status.busy": "2025-05-26T22:20:49.151527Z",
     "iopub.status.idle": "2025-05-26T22:20:49.159295Z",
     "shell.execute_reply": "2025-05-26T22:20:49.158011Z"
    },
    "papermill": {
     "duration": 0.022629,
     "end_time": "2025-05-26T22:20:49.161652",
     "exception": false,
     "start_time": "2025-05-26T22:20:49.139023",
     "status": "completed"
    },
    "tags": []
   },
   "outputs": [
    {
     "data": {
      "text/plain": [
       "0.5266724483597665"
      ]
     },
     "execution_count": 13,
     "metadata": {},
     "output_type": "execute_result"
    }
   ],
   "source": [
    "150000/284807"
   ]
  },
  {
   "cell_type": "code",
   "execution_count": 14,
   "id": "13cd1697",
   "metadata": {
    "execution": {
     "iopub.execute_input": "2025-05-26T22:20:49.186854Z",
     "iopub.status.busy": "2025-05-26T22:20:49.186437Z",
     "iopub.status.idle": "2025-05-26T22:20:49.216371Z",
     "shell.execute_reply": "2025-05-26T22:20:49.215041Z"
    },
    "papermill": {
     "duration": 0.046376,
     "end_time": "2025-05-26T22:20:49.219051",
     "exception": false,
     "start_time": "2025-05-26T22:20:49.172675",
     "status": "completed"
    },
    "tags": []
   },
   "outputs": [
    {
     "name": "stdout",
     "output_type": "stream",
     "text": [
      "Fraud: 293\n",
      "Non-Fraud: 149707\n"
     ]
    }
   ],
   "source": [
    "# Separate our entire data into two groups - Train and Test\n",
    "\n",
    "# Train Dataset\n",
    "df_train = data[0:150000]\n",
    "df_train_1 = df_train[df_train.Class==1] # Fraud Dataset\n",
    "df_train_0 = df_train[df_train.Class == 0] #Non-Fraud Dataset\n",
    "\n",
    "print(\"Fraud:\", df_train_1.shape[0])\n",
    "print(\"Non-Fraud:\", df_train_0.shape[0])"
   ]
  },
  {
   "cell_type": "code",
   "execution_count": 15,
   "id": "799a16cd",
   "metadata": {
    "execution": {
     "iopub.execute_input": "2025-05-26T22:20:49.243312Z",
     "iopub.status.busy": "2025-05-26T22:20:49.242795Z",
     "iopub.status.idle": "2025-05-26T22:20:49.259732Z",
     "shell.execute_reply": "2025-05-26T22:20:49.258328Z"
    },
    "papermill": {
     "duration": 0.031744,
     "end_time": "2025-05-26T22:20:49.262295",
     "exception": false,
     "start_time": "2025-05-26T22:20:49.230551",
     "status": "completed"
    },
    "tags": []
   },
   "outputs": [
    {
     "data": {
      "text/plain": [
       "(593, 31)"
      ]
     },
     "execution_count": 15,
     "metadata": {},
     "output_type": "execute_result"
    }
   ],
   "source": [
    "df_sample = df_train_0.sample(300, random_state = 0) # Random sampling of non-fraud dataset\n",
    "df_train = df_train_1.append(df_sample) # Joined both the datasets\n",
    "df_train = df_train.sample(frac=1) # Mix the dataset\n",
    "df_train.shape"
   ]
  },
  {
   "cell_type": "code",
   "execution_count": 16,
   "id": "ac450d77",
   "metadata": {
    "execution": {
     "iopub.execute_input": "2025-05-26T22:20:49.285921Z",
     "iopub.status.busy": "2025-05-26T22:20:49.285521Z",
     "iopub.status.idle": "2025-05-26T22:20:49.294859Z",
     "shell.execute_reply": "2025-05-26T22:20:49.293657Z"
    },
    "papermill": {
     "duration": 0.024356,
     "end_time": "2025-05-26T22:20:49.297594",
     "exception": false,
     "start_time": "2025-05-26T22:20:49.273238",
     "status": "completed"
    },
    "tags": []
   },
   "outputs": [
    {
     "name": "stdout",
     "output_type": "stream",
     "text": [
      "<class 'numpy.ndarray'> <class 'numpy.ndarray'>\n"
     ]
    }
   ],
   "source": [
    "X_train = df_train.drop(['Time', 'Class'], axis = 1) # Drop Time(not useful) and Class(traget variable)\n",
    "y_train = df_train['Class']\n",
    "X_train = np.array(X_train)\n",
    "y_train = np.array(y_train)\n",
    "print(type(X_train), type(y_train))"
   ]
  },
  {
   "cell_type": "code",
   "execution_count": 17,
   "id": "e188b3d6",
   "metadata": {
    "execution": {
     "iopub.execute_input": "2025-05-26T22:20:49.322967Z",
     "iopub.status.busy": "2025-05-26T22:20:49.321643Z",
     "iopub.status.idle": "2025-05-26T22:20:49.362031Z",
     "shell.execute_reply": "2025-05-26T22:20:49.360427Z"
    },
    "papermill": {
     "duration": 0.05579,
     "end_time": "2025-05-26T22:20:49.364764",
     "exception": false,
     "start_time": "2025-05-26T22:20:49.308974",
     "status": "completed"
    },
    "tags": []
   },
   "outputs": [
    {
     "name": "stdout",
     "output_type": "stream",
     "text": [
      "<class 'numpy.ndarray'> <class 'numpy.ndarray'>\n"
     ]
    }
   ],
   "source": [
    "df_test = data[150000:]\n",
    "\n",
    "X_test = df_test.drop(['Time', 'Class'], axis=1)\n",
    "y_test = df_test['Class']\n",
    "X_test = np.array(X_test)\n",
    "y_test = np.array(y_test)\n",
    "print(type(X_test), type(y_test))"
   ]
  },
  {
   "cell_type": "code",
   "execution_count": 18,
   "id": "0538ddf0",
   "metadata": {
    "execution": {
     "iopub.execute_input": "2025-05-26T22:20:49.389459Z",
     "iopub.status.busy": "2025-05-26T22:20:49.388473Z",
     "iopub.status.idle": "2025-05-26T22:20:49.396685Z",
     "shell.execute_reply": "2025-05-26T22:20:49.395525Z"
    },
    "papermill": {
     "duration": 0.023244,
     "end_time": "2025-05-26T22:20:49.399250",
     "exception": false,
     "start_time": "2025-05-26T22:20:49.376006",
     "status": "completed"
    },
    "tags": []
   },
   "outputs": [
    {
     "data": {
      "text/plain": [
       "((593, 29), (593,), (134807, 29), (134807,))"
      ]
     },
     "execution_count": 18,
     "metadata": {},
     "output_type": "execute_result"
    }
   ],
   "source": [
    "# No. of samples in our train and test sets\n",
    "X_train.shape, y_train.shape, X_test.shape, y_test.shape"
   ]
  },
  {
   "cell_type": "markdown",
   "id": "035be1b8",
   "metadata": {
    "_cell_guid": "c54c8f9f-9301-4a96-9c8b-1845946187ff",
    "_uuid": "a6896c291abc000d9d642fcc65bb93d45b118236",
    "papermill": {
     "duration": 0.010783,
     "end_time": "2025-05-26T22:20:49.421199",
     "exception": false,
     "start_time": "2025-05-26T22:20:49.410416",
     "status": "completed"
    },
    "tags": []
   },
   "source": [
    "# Confusion Matrix"
   ]
  },
  {
   "cell_type": "code",
   "execution_count": 19,
   "id": "dd70c21d",
   "metadata": {
    "execution": {
     "iopub.execute_input": "2025-05-26T22:20:49.445093Z",
     "iopub.status.busy": "2025-05-26T22:20:49.444677Z",
     "iopub.status.idle": "2025-05-26T22:20:49.452847Z",
     "shell.execute_reply": "2025-05-26T22:20:49.451403Z"
    },
    "papermill": {
     "duration": 0.023561,
     "end_time": "2025-05-26T22:20:49.455701",
     "exception": false,
     "start_time": "2025-05-26T22:20:49.432140",
     "status": "completed"
    },
    "tags": []
   },
   "outputs": [
    {
     "data": {
      "text/plain": [
       "array(['0', '1'], dtype='<U1')"
      ]
     },
     "execution_count": 19,
     "metadata": {},
     "output_type": "execute_result"
    }
   ],
   "source": [
    "classes = np.array(['0', '1']) # Binary label, Class = 1 (fraud) and Class = 0 (no fraud)\n",
    "classes"
   ]
  },
  {
   "cell_type": "code",
   "execution_count": 20,
   "id": "1e4d5049",
   "metadata": {
    "_cell_guid": "c57ed880-9e78-4620-9158-bfe626bf75f6",
    "_uuid": "a484397df965faf0e489e17a7e0b0ccf36c8bf84",
    "execution": {
     "iopub.execute_input": "2025-05-26T22:20:49.481223Z",
     "iopub.status.busy": "2025-05-26T22:20:49.480180Z",
     "iopub.status.idle": "2025-05-26T22:20:49.489959Z",
     "shell.execute_reply": "2025-05-26T22:20:49.488303Z"
    },
    "papermill": {
     "duration": 0.025389,
     "end_time": "2025-05-26T22:20:49.492610",
     "exception": false,
     "start_time": "2025-05-26T22:20:49.467221",
     "status": "completed"
    },
    "tags": []
   },
   "outputs": [],
   "source": [
    "# Function to plot the confusion Matrix\n",
    "def plot_confusion_matrix(cm, classes,\n",
    "                          title='Confusion matrix',\n",
    "                          cmap=plt.cm.Blues):\n",
    "    \n",
    "    plt.imshow(cm, interpolation='nearest', cmap=cmap)\n",
    "    plt.title(title)\n",
    "    plt.colorbar()\n",
    "    tick_marks = np.arange(len(classes))\n",
    "    plt.xticks(tick_marks, classes, rotation=45)\n",
    "    plt.yticks(tick_marks, classes)\n",
    "\n",
    "    fmt = 'd' \n",
    "    thresh = cm.max() / 2.\n",
    "    for i, j in itertools.product(range(cm.shape[0]), range(cm.shape[1])):\n",
    "        plt.text(j, i, format(cm[i, j], fmt),\n",
    "                 horizontalalignment=\"center\",\n",
    "                 color=\"white\" if cm[i, j] > thresh else \"black\")\n",
    "\n",
    "    plt.tight_layout()\n",
    "    plt.ylabel('True label')\n",
    "    plt.xlabel('Predicted label')"
   ]
  },
  {
   "cell_type": "markdown",
   "id": "d513913e",
   "metadata": {
    "_cell_guid": "f7de7e6f-e51d-4e83-9d4e-6b0abdd2c726",
    "_uuid": "95ccdb3d1da9c590cb7b984f7f7a3151c316509c",
    "papermill": {
     "duration": 0.01121,
     "end_time": "2025-05-26T22:20:49.517709",
     "exception": false,
     "start_time": "2025-05-26T22:20:49.506499",
     "status": "completed"
    },
    "tags": []
   },
   "source": [
    "# Model Selection"
   ]
  },
  {
   "cell_type": "markdown",
   "id": "41c9a8fb",
   "metadata": {
    "_cell_guid": "08c5814b-f154-476b-a91b-09682911a7fc",
    "_uuid": "940007266bccc4c732bfe0d990e7307eddb53293",
    "papermill": {
     "duration": 0.010949,
     "end_time": "2025-05-26T22:20:49.540285",
     "exception": false,
     "start_time": "2025-05-26T22:20:49.529336",
     "status": "completed"
    },
    "scrolled": true,
    "tags": []
   },
   "source": [
    "So now, we'll use a SVM model classifier, with the scikit-learn library."
   ]
  },
  {
   "cell_type": "code",
   "execution_count": 21,
   "id": "e45619ac",
   "metadata": {
    "execution": {
     "iopub.execute_input": "2025-05-26T22:20:49.564494Z",
     "iopub.status.busy": "2025-05-26T22:20:49.564051Z",
     "iopub.status.idle": "2025-05-26T22:20:49.570009Z",
     "shell.execute_reply": "2025-05-26T22:20:49.568467Z"
    },
    "papermill": {
     "duration": 0.021267,
     "end_time": "2025-05-26T22:20:49.572755",
     "exception": false,
     "start_time": "2025-05-26T22:20:49.551488",
     "status": "completed"
    },
    "tags": []
   },
   "outputs": [],
   "source": [
    "svm_classifier = svm.SVC(kernel = 'linear') # Create an instance for SVM Classifier"
   ]
  },
  {
   "cell_type": "code",
   "execution_count": 22,
   "id": "61736f5b",
   "metadata": {
    "execution": {
     "iopub.execute_input": "2025-05-26T22:20:49.597515Z",
     "iopub.status.busy": "2025-05-26T22:20:49.597012Z",
     "iopub.status.idle": "2025-05-26T22:20:51.998667Z",
     "shell.execute_reply": "2025-05-26T22:20:51.997419Z"
    },
    "papermill": {
     "duration": 2.41812,
     "end_time": "2025-05-26T22:20:52.001950",
     "exception": false,
     "start_time": "2025-05-26T22:20:49.583830",
     "status": "completed"
    },
    "tags": []
   },
   "outputs": [
    {
     "data": {
      "text/plain": [
       "SVC(kernel='linear')"
      ]
     },
     "execution_count": 22,
     "metadata": {},
     "output_type": "execute_result"
    }
   ],
   "source": [
    "svm_classifier.fit(X_train, y_train) # Then we fit our train data to the clssifier"
   ]
  },
  {
   "cell_type": "markdown",
   "id": "2f674d87",
   "metadata": {
    "_cell_guid": "33fd5429-184a-40ac-9b4f-cc66300eb75d",
    "_uuid": "06c6624cc3199d8c61aa462a1ac5daea1af5f044",
    "papermill": {
     "duration": 0.012489,
     "end_time": "2025-05-26T22:20:52.027980",
     "exception": false,
     "start_time": "2025-05-26T22:20:52.015491",
     "status": "completed"
    },
    "tags": []
   },
   "source": [
    "# Testing the Model"
   ]
  },
  {
   "cell_type": "code",
   "execution_count": 23,
   "id": "325809f6",
   "metadata": {
    "execution": {
     "iopub.execute_input": "2025-05-26T22:20:52.053277Z",
     "iopub.status.busy": "2025-05-26T22:20:52.052838Z",
     "iopub.status.idle": "2025-05-26T22:20:52.456683Z",
     "shell.execute_reply": "2025-05-26T22:20:52.455533Z"
    },
    "papermill": {
     "duration": 0.420009,
     "end_time": "2025-05-26T22:20:52.459526",
     "exception": false,
     "start_time": "2025-05-26T22:20:52.039517",
     "status": "completed"
    },
    "tags": []
   },
   "outputs": [
    {
     "data": {
      "text/plain": [
       "134807"
      ]
     },
     "execution_count": 23,
     "metadata": {},
     "output_type": "execute_result"
    }
   ],
   "source": [
    "y_predict = svm_classifier.predict(X_test) # Predict on test data using our trained model\n",
    "len(y_predict) "
   ]
  },
  {
   "cell_type": "code",
   "execution_count": 24,
   "id": "d45ae957",
   "metadata": {
    "execution": {
     "iopub.execute_input": "2025-05-26T22:20:52.484315Z",
     "iopub.status.busy": "2025-05-26T22:20:52.483908Z",
     "iopub.status.idle": "2025-05-26T22:20:52.794905Z",
     "shell.execute_reply": "2025-05-26T22:20:52.793572Z"
    },
    "papermill": {
     "duration": 0.326706,
     "end_time": "2025-05-26T22:20:52.797483",
     "exception": false,
     "start_time": "2025-05-26T22:20:52.470777",
     "status": "completed"
    },
    "tags": []
   },
   "outputs": [
    {
     "data": {
      "image/png": "[encoded data removed]",
      "text/plain": [
       "<Figure size 432x288 with 2 Axes>"
      ]
     },
     "metadata": {
      "needs_background": "light"
     },
     "output_type": "display_data"
    }
   ],
   "source": [
    "cm = confusion_matrix(y_test, y_predict)\n",
    "plot_confusion_matrix(cm,classes)"
   ]
  },
  {
   "cell_type": "markdown",
   "id": "658f17d1",
   "metadata": {
    "_cell_guid": "fcc81707-fc91-4a66-945b-93fb7423dfcd",
    "_uuid": "9866599a18a5ff8286d8fac8ce2dd7213ae2d310",
    "papermill": {
     "duration": 0.011793,
     "end_time": "2025-05-26T22:20:52.822250",
     "exception": false,
     "start_time": "2025-05-26T22:20:52.810457",
     "status": "completed"
    },
    "tags": []
   },
   "source": [
    "We are trying to minimize the number of errors in our prediction results. Errors are on the anti-diagonal of the confusion matrix.  But more importantly, being wrong about an actual fraud is far worse than being wrong about a non-fraud transaction. "
   ]
  },
  {
   "cell_type": "markdown",
   "id": "9188bcf1",
   "metadata": {
    "_cell_guid": "93871f02-4e10-4ae4-9724-0d673e56c255",
    "_uuid": "b164a5ed0b0b36739ad8b96052a14d515bb277e9",
    "papermill": {
     "duration": 0.012481,
     "end_time": "2025-05-26T22:20:52.846174",
     "exception": false,
     "start_time": "2025-05-26T22:20:52.833693",
     "status": "completed"
    },
    "tags": []
   },
   "source": [
    "That is why  using the accuracy as only classification criterion could be considered unthoughtful. \n",
    "During the remaining part of this study, we'll give the precision 4 times more importance than the general accuracy.\n",
    "Even though the final criterion will be accuracy only."
   ]
  },
  {
   "cell_type": "code",
   "execution_count": 25,
   "id": "74de6c58",
   "metadata": {
    "_cell_guid": "21cde17a-738a-4c75-a6b3-16b4c055188b",
    "_uuid": "7000a8cec37987f50f8e398e48894c5ece0a7470",
    "execution": {
     "iopub.execute_input": "2025-05-26T22:20:52.874376Z",
     "iopub.status.busy": "2025-05-26T22:20:52.873153Z",
     "iopub.status.idle": "2025-05-26T22:20:52.881361Z",
     "shell.execute_reply": "2025-05-26T22:20:52.879851Z"
    },
    "papermill": {
     "duration": 0.024572,
     "end_time": "2025-05-26T22:20:52.883884",
     "exception": false,
     "start_time": "2025-05-26T22:20:52.859312",
     "status": "completed"
    },
    "tags": []
   },
   "outputs": [
    {
     "name": "stdout",
     "output_type": "stream",
     "text": [
      "Our criterion give a result of 0.9183315525754612\n"
     ]
    }
   ],
   "source": [
    "print('Our criterion give a result of ' \n",
    "      + str( ( (cm[0][0]+cm[1][1]) / (sum(cm[0]) + sum(cm[1])) + 4 * cm[1][1]/(cm[1][0]+cm[1][1])) / 5))"
   ]
  },
  {
   "cell_type": "code",
   "execution_count": 26,
   "id": "b59f5f17",
   "metadata": {
    "_cell_guid": "08447323-4ed7-4e29-a3c1-c86682ff63f0",
    "_uuid": "7c7bb0d2cfffdbdbe10df915a429c88e36a60957",
    "execution": {
     "iopub.execute_input": "2025-05-26T22:20:52.909966Z",
     "iopub.status.busy": "2025-05-26T22:20:52.909543Z",
     "iopub.status.idle": "2025-05-26T22:20:52.917726Z",
     "shell.execute_reply": "2025-05-26T22:20:52.916524Z"
    },
    "papermill": {
     "duration": 0.024251,
     "end_time": "2025-05-26T22:20:52.920336",
     "exception": false,
     "start_time": "2025-05-26T22:20:52.896085",
     "status": "completed"
    },
    "tags": []
   },
   "outputs": [
    {
     "name": "stdout",
     "output_type": "stream",
     "text": [
      "We have detected 181 frauds / 199 total frauds.\n",
      "\n",
      "So, the probability to detect a fraud is 0.9095477386934674\n",
      "the accuracy is : 0.9534668081034368\n"
     ]
    }
   ],
   "source": [
    "print('We have detected ' + str(cm[1][1]) + ' frauds / ' + str(cm[1][1]+cm[1][0]) + ' total frauds.')\n",
    "print('\\nSo, the probability to detect a fraud is ' + str(cm[1][1]/(cm[1][1]+cm[1][0])))\n",
    "print(\"the accuracy is : \"+str((cm[0][0]+cm[1][1]) / (sum(cm[0]) + sum(cm[1]))))"
   ]
  },
  {
   "cell_type": "markdown",
   "id": "debaf030",
   "metadata": {
    "_cell_guid": "66ca64cd-078d-4a1c-8ecd-d85a247ef5f3",
    "_uuid": "a38206000a28bcc2baf07d0d8e10f7eb1256f993",
    "papermill": {
     "duration": 0.013029,
     "end_time": "2025-05-26T22:20:52.946046",
     "exception": false,
     "start_time": "2025-05-26T22:20:52.933017",
     "status": "completed"
    },
    "tags": []
   },
   "source": [
    "# Re-balanced class weight :"
   ]
  },
  {
   "cell_type": "markdown",
   "id": "1b300b22",
   "metadata": {
    "_cell_guid": "10579138-58f9-41db-b5a7-25f6c4741900",
    "_uuid": "6cd3881e06f80ba87e4377c525572db1585e1c84",
    "papermill": {
     "duration": 0.011406,
     "end_time": "2025-05-26T22:20:52.969559",
     "exception": false,
     "start_time": "2025-05-26T22:20:52.958153",
     "status": "completed"
    },
    "tags": []
   },
   "source": [
    "In the previously used SVM model, the weight of each class was the same, which means that missing a fraud is as bad as misjudging a non-fraud. The objective, for a bank, is to maximize the number of detected frauds! Even if it means considering more non-fraud tuple as fraudulent transactions. So, we need to minimize the False Negatives : the number of no detected frauds.\n",
    "\n",
    "Indeed, by modifying the class_weight parameter, we can chose which class to give more importance during the training phase. In this case, the class_1 which describes the fraudulent operations will be considered more important than the class_0 (non-fraud operation). However, in this case we will give more importance to the class_0 due to the large number of misclassed non-fraud operation. Of course the goal is to lose as little effective fraud as possible in the process.\n"
   ]
  },
  {
   "cell_type": "code",
   "execution_count": 27,
   "id": "4829ae2f",
   "metadata": {
    "_cell_guid": "33f60bc0-38c6-4ee7-a348-e2254bca727c",
    "_uuid": "5c36459b8b55ab20a57097d820f7f24a856c20f7",
    "execution": {
     "iopub.execute_input": "2025-05-26T22:20:52.995785Z",
     "iopub.status.busy": "2025-05-26T22:20:52.995274Z",
     "iopub.status.idle": "2025-05-26T22:20:53.002656Z",
     "shell.execute_reply": "2025-05-26T22:20:53.000933Z"
    },
    "papermill": {
     "duration": 0.024809,
     "end_time": "2025-05-26T22:20:53.005822",
     "exception": false,
     "start_time": "2025-05-26T22:20:52.981013",
     "status": "completed"
    },
    "tags": []
   },
   "outputs": [],
   "source": [
    "classifier_b = svm.SVC(kernel='linear',class_weight={0:0.60, 1:0.40})"
   ]
  },
  {
   "cell_type": "code",
   "execution_count": 28,
   "id": "5f116ab5",
   "metadata": {
    "_cell_guid": "07b6b2e3-4cd2-4202-b2a9-3d22edadf650",
    "_uuid": "4b29ebf3f9fd2e591498e747d453297ccc9d95f0",
    "execution": {
     "iopub.execute_input": "2025-05-26T22:20:53.033084Z",
     "iopub.status.busy": "2025-05-26T22:20:53.032628Z",
     "iopub.status.idle": "2025-05-26T22:20:54.237992Z",
     "shell.execute_reply": "2025-05-26T22:20:54.236640Z"
    },
    "papermill": {
     "duration": 1.221978,
     "end_time": "2025-05-26T22:20:54.240683",
     "exception": false,
     "start_time": "2025-05-26T22:20:53.018705",
     "status": "completed"
    },
    "tags": []
   },
   "outputs": [
    {
     "data": {
      "text/plain": [
       "SVC(class_weight={0: 0.6, 1: 0.4}, kernel='linear')"
      ]
     },
     "execution_count": 28,
     "metadata": {},
     "output_type": "execute_result"
    }
   ],
   "source": [
    "classifier_b.fit(X_train, y_train) # Then we train our model, with our balanced data train."
   ]
  },
  {
   "cell_type": "markdown",
   "id": "63ad2332",
   "metadata": {
    "_cell_guid": "711f7353-4f8d-494e-a2e3-e24c69da17a8",
    "_uuid": "f441734ba20be6e81ead1f4fb1196c09095cc4f6",
    "papermill": {
     "duration": 0.01139,
     "end_time": "2025-05-26T22:20:54.263991",
     "exception": false,
     "start_time": "2025-05-26T22:20:54.252601",
     "status": "completed"
    },
    "tags": []
   },
   "source": [
    "# Testing the Model"
   ]
  },
  {
   "cell_type": "code",
   "execution_count": 29,
   "id": "967c5b7e",
   "metadata": {
    "_cell_guid": "63406a9e-e7f7-4bbe-9945-55daf2c384a8",
    "_uuid": "c2b29f36198561711dd23cdef243bd7d9b41bce7",
    "execution": {
     "iopub.execute_input": "2025-05-26T22:20:54.290275Z",
     "iopub.status.busy": "2025-05-26T22:20:54.289865Z",
     "iopub.status.idle": "2025-05-26T22:20:54.684741Z",
     "shell.execute_reply": "2025-05-26T22:20:54.683416Z"
    },
    "papermill": {
     "duration": 0.411721,
     "end_time": "2025-05-26T22:20:54.687561",
     "exception": false,
     "start_time": "2025-05-26T22:20:54.275840",
     "status": "completed"
    },
    "tags": []
   },
   "outputs": [],
   "source": [
    "prediction_SVM_b_all = classifier_b.predict(X_test) #We predict all the data set."
   ]
  },
  {
   "cell_type": "code",
   "execution_count": 30,
   "id": "c0ceae7f",
   "metadata": {
    "_cell_guid": "42f417eb-5c5c-4d1d-af59-349d17d77f6f",
    "_uuid": "e462d0526a115a87d27f8a1c24bbb6fd3b9e9eeb",
    "execution": {
     "iopub.execute_input": "2025-05-26T22:20:54.712797Z",
     "iopub.status.busy": "2025-05-26T22:20:54.712337Z",
     "iopub.status.idle": "2025-05-26T22:20:55.020550Z",
     "shell.execute_reply": "2025-05-26T22:20:55.019042Z"
    },
    "papermill": {
     "duration": 0.323908,
     "end_time": "2025-05-26T22:20:55.023094",
     "exception": false,
     "start_time": "2025-05-26T22:20:54.699186",
     "status": "completed"
    },
    "tags": []
   },
   "outputs": [
    {
     "data": {
      "image/png": "[encoded data removed]",
      "text/plain": [
       "<Figure size 432x288 with 2 Axes>"
      ]
     },
     "metadata": {
      "needs_background": "light"
     },
     "output_type": "display_data"
    }
   ],
   "source": [
    "cm = confusion_matrix(y_test, prediction_SVM_b_all)\n",
    "plot_confusion_matrix(cm,classes)"
   ]
  },
  {
   "cell_type": "code",
   "execution_count": 31,
   "id": "adfce916",
   "metadata": {
    "_cell_guid": "9aa0594f-88da-4015-a712-c4e378d276c9",
    "_uuid": "5f80761a24cf70ac29bbf3650a7db0ae6c273600",
    "execution": {
     "iopub.execute_input": "2025-05-26T22:20:55.049941Z",
     "iopub.status.busy": "2025-05-26T22:20:55.049524Z",
     "iopub.status.idle": "2025-05-26T22:20:55.057506Z",
     "shell.execute_reply": "2025-05-26T22:20:55.056055Z"
    },
    "papermill": {
     "duration": 0.025209,
     "end_time": "2025-05-26T22:20:55.061088",
     "exception": false,
     "start_time": "2025-05-26T22:20:55.035879",
     "status": "completed"
    },
    "tags": []
   },
   "outputs": [
    {
     "name": "stdout",
     "output_type": "stream",
     "text": [
      "Our criterion give a result of 0.9193745251213972\n"
     ]
    }
   ],
   "source": [
    "print('Our criterion give a result of ' \n",
    "      + str( ( (cm[0][0]+cm[1][1]) / (sum(cm[0]) + sum(cm[1])) + 4 * cm[1][1]/(cm[1][0]+cm[1][1])) / 5))"
   ]
  },
  {
   "cell_type": "code",
   "execution_count": 32,
   "id": "824bbbd9",
   "metadata": {
    "_cell_guid": "d03a28ad-b9e1-4c2c-bed2-06308b1816cf",
    "_uuid": "3d674db8f4eeb8ed4a8583e3d5cd40f8561ae33d",
    "execution": {
     "iopub.execute_input": "2025-05-26T22:20:55.088211Z",
     "iopub.status.busy": "2025-05-26T22:20:55.087804Z",
     "iopub.status.idle": "2025-05-26T22:20:55.095778Z",
     "shell.execute_reply": "2025-05-26T22:20:55.094439Z"
    },
    "papermill": {
     "duration": 0.024799,
     "end_time": "2025-05-26T22:20:55.099032",
     "exception": false,
     "start_time": "2025-05-26T22:20:55.074233",
     "status": "completed"
    },
    "tags": []
   },
   "outputs": [
    {
     "name": "stdout",
     "output_type": "stream",
     "text": [
      "We have detected 181 frauds / 199 total frauds.\n",
      "\n",
      "So, the probability to detect a fraud is 0.9095477386934674\n",
      "the accuracy is : 0.958681670833117\n"
     ]
    }
   ],
   "source": [
    "print('We have detected ' + str(cm[1][1]) + ' frauds / ' + str(cm[1][1]+cm[1][0]) + ' total frauds.')\n",
    "print('\\nSo, the probability to detect a fraud is ' + str(cm[1][1]/(cm[1][1]+cm[1][0])))\n",
    "print(\"the accuracy is : \"+str((cm[0][0]+cm[1][1]) / (sum(cm[0]) + sum(cm[1]))))"
   ]
  },
  {
   "cell_type": "code",
   "execution_count": null,
   "id": "b6de5a1d",
   "metadata": {
    "papermill": {
     "duration": 0.012881,
     "end_time": "2025-05-26T22:20:55.125115",
     "exception": false,
     "start_time": "2025-05-26T22:20:55.112234",
     "status": "completed"
    },
    "tags": []
   },
   "outputs": [],
   "source": []
  }
 ],
 "metadata": {
  "anaconda-cloud": {},
  "kaggle": {
   "accelerator": "none",
   "dataSources": [
    {
     "datasetId": 310,
     "sourceId": 23498,
     "sourceType": "datasetVersion"
    }
   ],
   "dockerImageVersionId": 30301,
   "isGpuEnabled": false,
   "isInternetEnabled": false,
   "language": "python",
   "sourceType": "notebook"
  },
  "kernelspec": {
   "display_name": "Python 3",
   "language": "python",
   "name": "python3"
  },
  "language_info": {
   "codemirror_mode": {
    "name": "ipython",
    "version": 3
   },
   "file_extension": ".py",
   "mimetype": "text/x-python",
   "name": "python",
   "nbconvert_exporter": "python",
   "pygments_lexer": "ipython3",
   "version": "3.7.12"
  },
  "papermill": {
   "default_parameters": {},
   "duration": 26.778323,
   "end_time": "2025-05-26T22:20:55.963703",
   "environment_variables": {},
   "exception": null,
   "input_path": "__notebook__.ipynb",
   "output_path": "__notebook__.ipynb",
   "parameters": {},
   "start_time": "2025-05-26T22:20:29.185380",
   "version": "2.3.4"
  }
 },
 "nbformat": 4,
 "nbformat_minor": 5
}
